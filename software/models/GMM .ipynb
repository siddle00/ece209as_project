{
 "cells": [
  {
   "cell_type": "code",
   "execution_count": null,
   "id": "f5df2bed",
   "metadata": {},
   "outputs": [],
   "source": [
    "import os\n",
    "import numpy as np\n",
    "import pickle\n",
    "import soundfile as sf\n",
    "\n",
    "from python_speech_features import mfcc\n",
    "from sklearn.mixture import GMM\n",
    "from sklearn import preprocessing\n",
    "\n",
    "# features in true/false\n",
    "features = np.array([])\n",
    "for file in os.listdir(source):\n",
    "    file = os.path.join(source, file)\n",
    "\n",
    "    (sr, audio) = sf.read(file)\n",
    "    # extract 40 dimensional MFCC & delta MFCC features\n",
    "    vector  = extract_features(audio,sr)\n",
    "\n",
    "    if features.size == 0:\n",
    "        features = vector\n",
    "    else:\n",
    "        features = np.vstack((features, vector))\n",
    "\n",
    "gmm = GMM(n_components = 16, n_iter = 200, covariance_type='diag',n_init = 3)\n",
    "gmm.fit(features)\n",
    "\n",
    "name = 'model'\n",
    "# saving the trained gaussian model\n",
    "pickle.dump(gmm, open(dest + name + '.gmm', 'wb'))\n",
    "\n",
    "# gmm_models = pickle.load(open(dest + name + '.gmm','rb'))\n",
    "# labels = gmm_models.predict(X)"
   ]
  },
  {
   "cell_type": "code",
   "execution_count": null,
   "id": "5ca89a00",
   "metadata": {},
   "outputs": [],
   "source": [
    "\n",
    "def calculate_delta(array):\n",
    "    rows,cols = array.shape\n",
    "    deltas = np.zeros((rows,20))\n",
    "    N = 2\n",
    "    for i in range(rows):\n",
    "        index = []\n",
    "        j = 1\n",
    "        while j <= N:\n",
    "            if i-j < 0:\n",
    "                first = 0\n",
    "            else:\n",
    "                first = i-j\n",
    "            if i+j > rows -1:\n",
    "                second = rows -1\n",
    "            else:\n",
    "                second = i+j\n",
    "            index.append((second,first))\n",
    "            j+=1\n",
    "        deltas[i] = (array[index[0][0]]-array[index[0][1]] + (2 * (array[index[1][0]]-array[index[1][1]]))) / 10\n",
    "    return deltas\n",
    "\n",
    "def extract_features(audio,rate):    \n",
    "    mfcc_feat = mfcc.mfcc(audio,rate, 0.025, 0.01,20,appendEnergy = True, nfft=1103)\n",
    "    mfcc_feat = preprocessing.scale(mfcc_feat)\n",
    "    delta = calculate_delta(mfcc_feat)\n",
    "    #combining both mfcc features and delta\n",
    "    combined = np.hstack((mfcc_feat,delta))   # timestep * 13 \n",
    "    return combined\n"
   ]
  },
  {
   "cell_type": "code",
   "execution_count": null,
   "id": "53861705",
   "metadata": {},
   "outputs": [],
   "source": [
    "source = './LA/ASVspoof2019_LA_train/flac/'\n",
    "dest = './gmm_models/'"
   ]
  }
 ],
 "metadata": {
  "kernelspec": {
   "display_name": "Python 3",
   "language": "python",
   "name": "python3"
  },
  "language_info": {
   "codemirror_mode": {
    "name": "ipython",
    "version": 3
   },
   "file_extension": ".py",
   "mimetype": "text/x-python",
   "name": "python",
   "nbconvert_exporter": "python",
   "pygments_lexer": "ipython3",
   "version": "3.8.8"
  }
 },
 "nbformat": 4,
 "nbformat_minor": 5
}
